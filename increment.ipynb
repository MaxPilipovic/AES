{
 "cells": [
  {
   "cell_type": "code",
   "execution_count": 26,
   "id": "0755988f-3879-4533-bb8c-4ae66a76b4a5",
   "metadata": {},
   "outputs": [],
   "source": [
    "bit_string = \"0000\""
   ]
  },
  {
   "cell_type": "code",
   "execution_count": null,
   "id": "c22d37e5-9da5-49d3-bfde-f4ff57937cda",
   "metadata": {},
   "outputs": [],
   "source": []
  },
  {
   "cell_type": "code",
   "execution_count": 37,
   "id": "25cf2b84-b687-42f4-85b6-44c48be68e3a",
   "metadata": {},
   "outputs": [],
   "source": [
    "def incr(bit_string):\n",
    "    carry = False\n",
    "    bits = list(bit_string[::-1])\n",
    "    for i, bit in enumerate(bits):\n",
    "        carry = bit != \"0\"\n",
    "        if bit == \"0\":\n",
    "            bits[i] = \"1\"\n",
    "            break\n",
    "        else:\n",
    "            bits[i] = \"0\"\n",
    "    if carry:\n",
    "        bits.append(\"1\")\n",
    "    return \"\".join(bits[::-1])\n",
    "\n",
    "def decr(bit_string):\n",
    "    bits = list(bit_string[::-1])\n",
    "    for i, bit in enumerate(bits):\n",
    "        if bit == \"1\":\n",
    "            bits[i] = \"0\"\n",
    "            break\n",
    "        else:\n",
    "            bits[i] = \"1\"\n",
    "    return \"\".join(bits[::-1])"
   ]
  },
  {
   "cell_type": "code",
   "execution_count": 39,
   "id": "78058758-6ac7-4ab3-b58c-8245da263da7",
   "metadata": {},
   "outputs": [
    {
     "name": "stdout",
     "output_type": "stream",
     "text": [
      "010\n"
     ]
    }
   ],
   "source": [
    "print(incr(\"001\"))"
   ]
  },
  {
   "cell_type": "code",
   "execution_count": null,
   "id": "a7112976-2cae-4b30-b831-d91dcd3ff9a6",
   "metadata": {},
   "outputs": [],
   "source": []
  }
 ],
 "metadata": {
  "kernelspec": {
   "display_name": "Python 3 (ipykernel)",
   "language": "python",
   "name": "python3"
  },
  "language_info": {
   "codemirror_mode": {
    "name": "ipython",
    "version": 3
   },
   "file_extension": ".py",
   "mimetype": "text/x-python",
   "name": "python",
   "nbconvert_exporter": "python",
   "pygments_lexer": "ipython3",
   "version": "3.9.12"
  }
 },
 "nbformat": 4,
 "nbformat_minor": 5
}
